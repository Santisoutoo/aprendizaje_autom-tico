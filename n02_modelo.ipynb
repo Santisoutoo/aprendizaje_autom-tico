{
 "cells": [
  {
   "cell_type": "markdown",
   "metadata": {},
   "source": [
    "## Bibliotecas"
   ]
  },
  {
   "cell_type": "code",
   "execution_count": 23,
   "metadata": {},
   "outputs": [],
   "source": [
    "import pandas as pd\n",
    "import joblib\n",
    "\n",
    "from sklearn.ensemble import GradientBoostingRegressor, RandomForestRegressor\n",
    "from sklearn.linear_model import LinearRegression\n",
    "from sklearn.metrics import mean_absolute_error, mean_squared_error, r2_score\n",
    "from sklearn.model_selection import GridSearchCV, cross_val_score, train_test_split\n",
    "from sklearn.svm import SVR"
   ]
  },
  {
   "cell_type": "code",
   "execution_count": 24,
   "metadata": {},
   "outputs": [
    {
     "data": {
      "text/html": [
       "<div>\n",
       "<style scoped>\n",
       "    .dataframe tbody tr th:only-of-type {\n",
       "        vertical-align: middle;\n",
       "    }\n",
       "\n",
       "    .dataframe tbody tr th {\n",
       "        vertical-align: top;\n",
       "    }\n",
       "\n",
       "    .dataframe thead th {\n",
       "        text-align: right;\n",
       "    }\n",
       "</style>\n",
       "<table border=\"1\" class=\"dataframe\">\n",
       "  <thead>\n",
       "    <tr style=\"text-align: right;\">\n",
       "      <th></th>\n",
       "      <th>es_numerosa</th>\n",
       "      <th>educacion_madre</th>\n",
       "      <th>educacion_padre</th>\n",
       "      <th>tiempo_viaje</th>\n",
       "      <th>tiempo_estudio</th>\n",
       "      <th>consumo_alcohol_entre_semana</th>\n",
       "      <th>consumo_alcohol_fin_de_semana</th>\n",
       "      <th>suspensos</th>\n",
       "      <th>faltas</th>\n",
       "      <th>nota1</th>\n",
       "      <th>nota2</th>\n",
       "      <th>nota3</th>\n",
       "      <th>educacion_media</th>\n",
       "      <th>notas_media</th>\n",
       "    </tr>\n",
       "  </thead>\n",
       "  <tbody>\n",
       "    <tr>\n",
       "      <th>0</th>\n",
       "      <td>-1.732051</td>\n",
       "      <td>1.203379</td>\n",
       "      <td>0.488564</td>\n",
       "      <td>-0.722456</td>\n",
       "      <td>1.485568</td>\n",
       "      <td>-0.544852</td>\n",
       "      <td>-0.967245</td>\n",
       "      <td>0.0</td>\n",
       "      <td>-0.875992</td>\n",
       "      <td>0.738930</td>\n",
       "      <td>0.627412</td>\n",
       "      <td>0.404583</td>\n",
       "      <td>0.938424</td>\n",
       "      <td>0.612183</td>\n",
       "    </tr>\n",
       "    <tr>\n",
       "      <th>1</th>\n",
       "      <td>0.577350</td>\n",
       "      <td>-0.551188</td>\n",
       "      <td>-0.428247</td>\n",
       "      <td>0.846306</td>\n",
       "      <td>1.485568</td>\n",
       "      <td>-0.544852</td>\n",
       "      <td>-0.967245</td>\n",
       "      <td>0.0</td>\n",
       "      <td>0.860002</td>\n",
       "      <td>0.738930</td>\n",
       "      <td>0.627412</td>\n",
       "      <td>0.810502</td>\n",
       "      <td>-0.539715</td>\n",
       "      <td>0.753600</td>\n",
       "    </tr>\n",
       "    <tr>\n",
       "      <th>2</th>\n",
       "      <td>0.577350</td>\n",
       "      <td>1.203379</td>\n",
       "      <td>-0.428247</td>\n",
       "      <td>0.846306</td>\n",
       "      <td>0.100253</td>\n",
       "      <td>-0.544852</td>\n",
       "      <td>-0.967245</td>\n",
       "      <td>0.0</td>\n",
       "      <td>2.248797</td>\n",
       "      <td>-0.481911</td>\n",
       "      <td>-1.027540</td>\n",
       "      <td>-1.219091</td>\n",
       "      <td>0.445711</td>\n",
       "      <td>-0.943395</td>\n",
       "    </tr>\n",
       "    <tr>\n",
       "      <th>3</th>\n",
       "      <td>0.577350</td>\n",
       "      <td>-0.551188</td>\n",
       "      <td>-1.345059</td>\n",
       "      <td>0.846306</td>\n",
       "      <td>0.100253</td>\n",
       "      <td>-0.544852</td>\n",
       "      <td>-0.107472</td>\n",
       "      <td>0.0</td>\n",
       "      <td>-0.181594</td>\n",
       "      <td>-0.074964</td>\n",
       "      <td>-0.200064</td>\n",
       "      <td>0.810502</td>\n",
       "      <td>-1.032428</td>\n",
       "      <td>0.187935</td>\n",
       "    </tr>\n",
       "    <tr>\n",
       "      <th>4</th>\n",
       "      <td>-1.732051</td>\n",
       "      <td>-1.428472</td>\n",
       "      <td>-0.428247</td>\n",
       "      <td>0.846306</td>\n",
       "      <td>-1.285061</td>\n",
       "      <td>-0.544852</td>\n",
       "      <td>1.612075</td>\n",
       "      <td>0.0</td>\n",
       "      <td>-0.875992</td>\n",
       "      <td>0.738930</td>\n",
       "      <td>0.627412</td>\n",
       "      <td>0.810502</td>\n",
       "      <td>-1.032428</td>\n",
       "      <td>0.753600</td>\n",
       "    </tr>\n",
       "  </tbody>\n",
       "</table>\n",
       "</div>"
      ],
      "text/plain": [
       "   es_numerosa  educacion_madre  educacion_padre  tiempo_viaje  \\\n",
       "0    -1.732051         1.203379         0.488564     -0.722456   \n",
       "1     0.577350        -0.551188        -0.428247      0.846306   \n",
       "2     0.577350         1.203379        -0.428247      0.846306   \n",
       "3     0.577350        -0.551188        -1.345059      0.846306   \n",
       "4    -1.732051        -1.428472        -0.428247      0.846306   \n",
       "\n",
       "   tiempo_estudio  consumo_alcohol_entre_semana  \\\n",
       "0        1.485568                     -0.544852   \n",
       "1        1.485568                     -0.544852   \n",
       "2        0.100253                     -0.544852   \n",
       "3        0.100253                     -0.544852   \n",
       "4       -1.285061                     -0.544852   \n",
       "\n",
       "   consumo_alcohol_fin_de_semana  suspensos    faltas     nota1     nota2  \\\n",
       "0                      -0.967245        0.0 -0.875992  0.738930  0.627412   \n",
       "1                      -0.967245        0.0  0.860002  0.738930  0.627412   \n",
       "2                      -0.967245        0.0  2.248797 -0.481911 -1.027540   \n",
       "3                      -0.107472        0.0 -0.181594 -0.074964 -0.200064   \n",
       "4                       1.612075        0.0 -0.875992  0.738930  0.627412   \n",
       "\n",
       "      nota3  educacion_media  notas_media  \n",
       "0  0.404583         0.938424     0.612183  \n",
       "1  0.810502        -0.539715     0.753600  \n",
       "2 -1.219091         0.445711    -0.943395  \n",
       "3  0.810502        -1.032428     0.187935  \n",
       "4  0.810502        -1.032428     0.753600  "
      ]
     },
     "metadata": {},
     "output_type": "display_data"
    }
   ],
   "source": [
    "CSV_FILE = 'EDA/df_standardized.csv'\n",
    "\n",
    "df = pd.read_csv(CSV_FILE)\n",
    "display(df.head())"
   ]
  },
  {
   "cell_type": "code",
   "execution_count": 25,
   "metadata": {},
   "outputs": [
    {
     "data": {
      "text/html": [
       "<div>\n",
       "<style scoped>\n",
       "    .dataframe tbody tr th:only-of-type {\n",
       "        vertical-align: middle;\n",
       "    }\n",
       "\n",
       "    .dataframe tbody tr th {\n",
       "        vertical-align: top;\n",
       "    }\n",
       "\n",
       "    .dataframe thead th {\n",
       "        text-align: right;\n",
       "    }\n",
       "</style>\n",
       "<table border=\"1\" class=\"dataframe\">\n",
       "  <thead>\n",
       "    <tr style=\"text-align: right;\">\n",
       "      <th></th>\n",
       "      <th>es_numerosa</th>\n",
       "      <th>tiempo_viaje</th>\n",
       "      <th>tiempo_estudio</th>\n",
       "      <th>consumo_alcohol_entre_semana</th>\n",
       "      <th>consumo_alcohol_fin_de_semana</th>\n",
       "      <th>suspensos</th>\n",
       "      <th>faltas</th>\n",
       "      <th>nota3</th>\n",
       "      <th>educacion_media</th>\n",
       "      <th>notas_media</th>\n",
       "    </tr>\n",
       "  </thead>\n",
       "  <tbody>\n",
       "    <tr>\n",
       "      <th>0</th>\n",
       "      <td>-1.732051</td>\n",
       "      <td>-0.722456</td>\n",
       "      <td>1.485568</td>\n",
       "      <td>-0.544852</td>\n",
       "      <td>-0.967245</td>\n",
       "      <td>0.0</td>\n",
       "      <td>-0.875992</td>\n",
       "      <td>0.404583</td>\n",
       "      <td>0.938424</td>\n",
       "      <td>0.612183</td>\n",
       "    </tr>\n",
       "    <tr>\n",
       "      <th>1</th>\n",
       "      <td>0.577350</td>\n",
       "      <td>0.846306</td>\n",
       "      <td>1.485568</td>\n",
       "      <td>-0.544852</td>\n",
       "      <td>-0.967245</td>\n",
       "      <td>0.0</td>\n",
       "      <td>0.860002</td>\n",
       "      <td>0.810502</td>\n",
       "      <td>-0.539715</td>\n",
       "      <td>0.753600</td>\n",
       "    </tr>\n",
       "    <tr>\n",
       "      <th>2</th>\n",
       "      <td>0.577350</td>\n",
       "      <td>0.846306</td>\n",
       "      <td>0.100253</td>\n",
       "      <td>-0.544852</td>\n",
       "      <td>-0.967245</td>\n",
       "      <td>0.0</td>\n",
       "      <td>2.248797</td>\n",
       "      <td>-1.219091</td>\n",
       "      <td>0.445711</td>\n",
       "      <td>-0.943395</td>\n",
       "    </tr>\n",
       "    <tr>\n",
       "      <th>3</th>\n",
       "      <td>0.577350</td>\n",
       "      <td>0.846306</td>\n",
       "      <td>0.100253</td>\n",
       "      <td>-0.544852</td>\n",
       "      <td>-0.107472</td>\n",
       "      <td>0.0</td>\n",
       "      <td>-0.181594</td>\n",
       "      <td>0.810502</td>\n",
       "      <td>-1.032428</td>\n",
       "      <td>0.187935</td>\n",
       "    </tr>\n",
       "    <tr>\n",
       "      <th>4</th>\n",
       "      <td>-1.732051</td>\n",
       "      <td>0.846306</td>\n",
       "      <td>-1.285061</td>\n",
       "      <td>-0.544852</td>\n",
       "      <td>1.612075</td>\n",
       "      <td>0.0</td>\n",
       "      <td>-0.875992</td>\n",
       "      <td>0.810502</td>\n",
       "      <td>-1.032428</td>\n",
       "      <td>0.753600</td>\n",
       "    </tr>\n",
       "    <tr>\n",
       "      <th>...</th>\n",
       "      <td>...</td>\n",
       "      <td>...</td>\n",
       "      <td>...</td>\n",
       "      <td>...</td>\n",
       "      <td>...</td>\n",
       "      <td>...</td>\n",
       "      <td>...</td>\n",
       "      <td>...</td>\n",
       "      <td>...</td>\n",
       "      <td>...</td>\n",
       "    </tr>\n",
       "    <tr>\n",
       "      <th>299</th>\n",
       "      <td>0.577350</td>\n",
       "      <td>-0.722456</td>\n",
       "      <td>1.485568</td>\n",
       "      <td>-0.544852</td>\n",
       "      <td>-0.967245</td>\n",
       "      <td>0.0</td>\n",
       "      <td>0.512803</td>\n",
       "      <td>0.404583</td>\n",
       "      <td>0.445711</td>\n",
       "      <td>0.470767</td>\n",
       "    </tr>\n",
       "    <tr>\n",
       "      <th>300</th>\n",
       "      <td>0.577350</td>\n",
       "      <td>0.846306</td>\n",
       "      <td>1.485568</td>\n",
       "      <td>-0.544852</td>\n",
       "      <td>-0.967245</td>\n",
       "      <td>0.0</td>\n",
       "      <td>1.207201</td>\n",
       "      <td>1.622339</td>\n",
       "      <td>1.431137</td>\n",
       "      <td>1.602097</td>\n",
       "    </tr>\n",
       "    <tr>\n",
       "      <th>301</th>\n",
       "      <td>0.577350</td>\n",
       "      <td>0.846306</td>\n",
       "      <td>1.485568</td>\n",
       "      <td>1.275312</td>\n",
       "      <td>-0.107472</td>\n",
       "      <td>0.0</td>\n",
       "      <td>0.512803</td>\n",
       "      <td>0.404583</td>\n",
       "      <td>-0.047002</td>\n",
       "      <td>0.470767</td>\n",
       "    </tr>\n",
       "    <tr>\n",
       "      <th>302</th>\n",
       "      <td>0.577350</td>\n",
       "      <td>0.846306</td>\n",
       "      <td>0.100253</td>\n",
       "      <td>-0.544852</td>\n",
       "      <td>-0.967245</td>\n",
       "      <td>0.0</td>\n",
       "      <td>-0.875992</td>\n",
       "      <td>-0.813173</td>\n",
       "      <td>0.938424</td>\n",
       "      <td>-1.650476</td>\n",
       "    </tr>\n",
       "    <tr>\n",
       "      <th>303</th>\n",
       "      <td>0.577350</td>\n",
       "      <td>2.415068</td>\n",
       "      <td>0.100253</td>\n",
       "      <td>1.275312</td>\n",
       "      <td>1.612075</td>\n",
       "      <td>0.0</td>\n",
       "      <td>-0.181594</td>\n",
       "      <td>-1.219091</td>\n",
       "      <td>0.938424</td>\n",
       "      <td>-1.226227</td>\n",
       "    </tr>\n",
       "  </tbody>\n",
       "</table>\n",
       "<p>304 rows × 10 columns</p>\n",
       "</div>"
      ],
      "text/plain": [
       "     es_numerosa  tiempo_viaje  tiempo_estudio  consumo_alcohol_entre_semana  \\\n",
       "0      -1.732051     -0.722456        1.485568                     -0.544852   \n",
       "1       0.577350      0.846306        1.485568                     -0.544852   \n",
       "2       0.577350      0.846306        0.100253                     -0.544852   \n",
       "3       0.577350      0.846306        0.100253                     -0.544852   \n",
       "4      -1.732051      0.846306       -1.285061                     -0.544852   \n",
       "..           ...           ...             ...                           ...   \n",
       "299     0.577350     -0.722456        1.485568                     -0.544852   \n",
       "300     0.577350      0.846306        1.485568                     -0.544852   \n",
       "301     0.577350      0.846306        1.485568                      1.275312   \n",
       "302     0.577350      0.846306        0.100253                     -0.544852   \n",
       "303     0.577350      2.415068        0.100253                      1.275312   \n",
       "\n",
       "     consumo_alcohol_fin_de_semana  suspensos    faltas     nota3  \\\n",
       "0                        -0.967245        0.0 -0.875992  0.404583   \n",
       "1                        -0.967245        0.0  0.860002  0.810502   \n",
       "2                        -0.967245        0.0  2.248797 -1.219091   \n",
       "3                        -0.107472        0.0 -0.181594  0.810502   \n",
       "4                         1.612075        0.0 -0.875992  0.810502   \n",
       "..                             ...        ...       ...       ...   \n",
       "299                      -0.967245        0.0  0.512803  0.404583   \n",
       "300                      -0.967245        0.0  1.207201  1.622339   \n",
       "301                      -0.107472        0.0  0.512803  0.404583   \n",
       "302                      -0.967245        0.0 -0.875992 -0.813173   \n",
       "303                       1.612075        0.0 -0.181594 -1.219091   \n",
       "\n",
       "     educacion_media  notas_media  \n",
       "0           0.938424     0.612183  \n",
       "1          -0.539715     0.753600  \n",
       "2           0.445711    -0.943395  \n",
       "3          -1.032428     0.187935  \n",
       "4          -1.032428     0.753600  \n",
       "..               ...          ...  \n",
       "299         0.445711     0.470767  \n",
       "300         1.431137     1.602097  \n",
       "301        -0.047002     0.470767  \n",
       "302         0.938424    -1.650476  \n",
       "303         0.938424    -1.226227  \n",
       "\n",
       "[304 rows x 10 columns]"
      ]
     },
     "execution_count": 25,
     "metadata": {},
     "output_type": "execute_result"
    }
   ],
   "source": [
    "#n² 94%\n",
    "\n",
    "df = df.drop(\n",
    "    columns = [\n",
    "        'educacion_padre', 'educacion_madre',\n",
    "        'nota1', 'nota2'\n",
    "    ]\n",
    ")\n",
    "\n",
    "df"
   ]
  },
  {
   "cell_type": "code",
   "execution_count": 26,
   "metadata": {},
   "outputs": [],
   "source": [
    "# n² 94%\n",
    "\n",
    "# df = df.drop(\n",
    "#     columns = [\n",
    "#         'educacion_padre', 'educacion_madre',\n",
    "#         'nota1', 'nota2', 'es_numerosa'\n",
    "#     ]\n",
    "# )\n",
    "\n",
    "# df"
   ]
  },
  {
   "cell_type": "code",
   "execution_count": 27,
   "metadata": {},
   "outputs": [],
   "source": [
    "# n² 91\n",
    "\n",
    "# df = df.drop(\n",
    "#     columns = [\n",
    "#         'educacion_padre', 'educacion_madre',\n",
    "#         'nota1', 'nota2', 'tiempo_estudio'\n",
    "#     ]\n",
    "# )\n",
    "\n",
    "# df"
   ]
  },
  {
   "cell_type": "code",
   "execution_count": 28,
   "metadata": {},
   "outputs": [],
   "source": [
    "# 90%\n",
    "\n",
    "# df = df.drop(\n",
    "#     columns = [\n",
    "#         'educacion_padre', 'educacion_madre',\n",
    "#         'nota1', 'nota2'\n",
    "#     ]\n",
    "# )\n",
    "\n",
    "# df"
   ]
  },
  {
   "cell_type": "code",
   "execution_count": 29,
   "metadata": {},
   "outputs": [],
   "source": [
    "# 92,9%\n",
    "\n",
    "# df = df.drop(\n",
    "#     columns = [\n",
    "#         'educacion_padre', 'educacion_madre',\n",
    "#         'nota1', 'nota2', 'consumo_alcohol_entre_semana'\n",
    "#     ]\n",
    "# )\n",
    "\n",
    "# df"
   ]
  },
  {
   "cell_type": "code",
   "execution_count": 30,
   "metadata": {},
   "outputs": [],
   "source": [
    "# # n² 85%\n",
    "\n",
    "# df = df.drop(\n",
    "#     columns = [\n",
    "#         'educacion_media',\n",
    "#         'nota1', 'nota2',\n",
    "#     ]\n",
    "# )\n",
    "\n",
    "# df"
   ]
  },
  {
   "cell_type": "code",
   "execution_count": 31,
   "metadata": {},
   "outputs": [],
   "source": [
    "# n² 85%\n",
    "\n",
    "# df = df.drop(\n",
    "#     columns = [\n",
    "#         'educacion_media',\n",
    "#         'nota1', 'nota2',\n",
    "#     ]\n",
    "# )\n",
    "\n",
    "# df"
   ]
  },
  {
   "cell_type": "code",
   "execution_count": 32,
   "metadata": {},
   "outputs": [],
   "source": [
    "# #n² 10%\n",
    "\n",
    "# df = df.drop(\n",
    "#     columns = [\n",
    "#         'educacion_media',\n",
    "#         'nota1', 'nota2', 'nota3'\n",
    "#     ]\n",
    "# )\n",
    "\n",
    "# df"
   ]
  },
  {
   "cell_type": "markdown",
   "metadata": {},
   "source": [
    "## Modelo notas_media\n",
    "Este primer modelo se va a centrar en explorar la variable `notas_media` ya que su correlacion era mayor que las 3 notas por separado"
   ]
  },
  {
   "cell_type": "code",
   "execution_count": 33,
   "metadata": {},
   "outputs": [],
   "source": [
    "# Dividir los datos en conjuntos de entrenamiento y prueba\n",
    "train_df, test_df = train_test_split(\n",
    "    df,\n",
    "    test_size=0.15\n",
    ")\n",
    "\n",
    "X_train = train_df.drop(columns=['notas_media'])\n",
    "Y_train = train_df[\"notas_media\"]\n",
    "X_test = test_df.drop(columns=['notas_media'])\n",
    "Y_test = test_df[\"notas_media\"]\n",
    "\n",
    "\n",
    "\n",
    "# display(X_train)\n",
    "# display(Y_train)\n",
    "# display(X_test)\n",
    "# display(X_test)\n"
   ]
  },
  {
   "cell_type": "markdown",
   "metadata": {},
   "source": [
    "### Regresión Linear"
   ]
  },
  {
   "cell_type": "code",
   "execution_count": 34,
   "metadata": {},
   "outputs": [],
   "source": [
    "lr_reg = LinearRegression()\n",
    "\n",
    "# Validación cruzada\n",
    "cv_scores = cross_val_score(\n",
    "    lr_reg,\n",
    "    X_train, Y_train,\n",
    "    cv=5, scoring='r2')\n",
    "\n",
    "lr_reg.fit(X_train, Y_train)\n",
    "Y_pred = lr_reg.predict(X_test)\n",
    "\n",
    "# Evaluacion\n",
    "r2_lr = r2_score(Y_test, Y_pred)\n",
    "mae_lr = mean_absolute_error(Y_test, Y_pred)\n",
    "mse_lr = mean_squared_error(Y_test, Y_pred)"
   ]
  },
  {
   "cell_type": "code",
   "execution_count": 44,
   "metadata": {},
   "outputs": [
    {
     "name": "stdout",
     "output_type": "stream",
     "text": [
      "r2_lr = 94.11%\n",
      "mae_lr = 0.184\n",
      "mse_lr = 0.054\n"
     ]
    }
   ],
   "source": [
    "print(f'r2_lr = {r2_lr * 100:.2f}%')\n",
    "print(f'mae_lr = {mae_lr:.3f}')\n",
    "print(f'mse_lr = {mse_lr:.3f}')"
   ]
  },
  {
   "cell_type": "code",
   "execution_count": 36,
   "metadata": {},
   "outputs": [
    {
     "data": {
      "text/plain": [
       "0.9208377112414571"
      ]
     },
     "metadata": {},
     "output_type": "display_data"
    },
    {
     "data": {
      "text/plain": [
       "np.float64(0.20956969509321793)"
      ]
     },
     "metadata": {},
     "output_type": "display_data"
    },
    {
     "data": {
      "text/plain": [
       "np.float64(0.07314123495192727)"
      ]
     },
     "metadata": {},
     "output_type": "display_data"
    }
   ],
   "source": [
    "# Crear y entrenar el modelo\n",
    "model = GradientBoostingRegressor(n_estimators=100)\n",
    "model.fit(X_train, Y_train)\n",
    "\n",
    "# Predecir\n",
    "Y_pred_gb = model.predict(X_test)\n",
    "\n",
    "# Evaluación\n",
    "r2_gb = r2_score(Y_test, Y_pred_gb)\n",
    "mae_gb = mean_absolute_error(Y_test, Y_pred_gb)\n",
    "mse_gb = mean_squared_error(Y_test, Y_pred_gb)\n",
    "\n",
    "# Mostrar las métricas\n",
    "display(r2_gb)\n",
    "display(mae_gb)\n",
    "display(mse_gb)"
   ]
  },
  {
   "cell_type": "code",
   "execution_count": 37,
   "metadata": {},
   "outputs": [
    {
     "data": {
      "text/plain": [
       "0.9208377112414571"
      ]
     },
     "metadata": {},
     "output_type": "display_data"
    },
    {
     "data": {
      "text/plain": [
       "np.float64(0.20956969509321793)"
      ]
     },
     "metadata": {},
     "output_type": "display_data"
    },
    {
     "data": {
      "text/plain": [
       "np.float64(0.07314123495192727)"
      ]
     },
     "metadata": {},
     "output_type": "display_data"
    }
   ],
   "source": [
    "from sklearn.linear_model import Ridge\n",
    "\n",
    "ridge = Ridge(alpha=1.0)\n",
    "ridge.fit(X_train, Y_train)\n",
    "\n",
    "Y_pred_ridge = model.predict(X_test)\n",
    "\n",
    "r2_ridge = r2_score(Y_test, Y_pred_ridge)\n",
    "mae_ridge = mean_absolute_error(Y_test, Y_pred_ridge)\n",
    "mse_ridge = mean_squared_error(Y_test, Y_pred_ridge)\n",
    "\n",
    "display(r2_ridge)\n",
    "display(mae_ridge)\n",
    "display(mse_ridge)\n",
    "\n"
   ]
  },
  {
   "cell_type": "code",
   "execution_count": 38,
   "metadata": {},
   "outputs": [
    {
     "data": {
      "text/plain": [
       "0.9286311526257305"
      ]
     },
     "metadata": {},
     "output_type": "display_data"
    },
    {
     "data": {
      "text/plain": [
       "np.float64(0.20626826359701322)"
      ]
     },
     "metadata": {},
     "output_type": "display_data"
    },
    {
     "data": {
      "text/plain": [
       "np.float64(0.06594055977804658)"
      ]
     },
     "metadata": {},
     "output_type": "display_data"
    }
   ],
   "source": [
    "from sklearn.linear_model import Lasso\n",
    "\n",
    "model = Lasso(alpha=0.1)\n",
    "model.fit(X_train, Y_train)\n",
    "\n",
    "Y_pred_lasso = model.predict(X_test)\n",
    "\n",
    "r2_lasso = r2_score(Y_test, Y_pred_lasso)\n",
    "mae_lasso = mean_absolute_error(Y_test, Y_pred_lasso)\n",
    "mse_lasso = mean_squared_error(Y_test, Y_pred_lasso)\n",
    "\n",
    "display(r2_lasso)\n",
    "display(mae_lasso)\n",
    "display(mse_lasso)\n",
    "\n",
    "\n"
   ]
  }
 ],
 "metadata": {
  "kernelspec": {
   "display_name": "aa",
   "language": "python",
   "name": "python3"
  },
  "language_info": {
   "codemirror_mode": {
    "name": "ipython",
    "version": 3
   },
   "file_extension": ".py",
   "mimetype": "text/x-python",
   "name": "python",
   "nbconvert_exporter": "python",
   "pygments_lexer": "ipython3",
   "version": "3.11.9"
  }
 },
 "nbformat": 4,
 "nbformat_minor": 2
}
