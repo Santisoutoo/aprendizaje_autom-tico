{
 "cells": [
  {
   "cell_type": "markdown",
   "metadata": {},
   "source": [
    "## Bibliotecas"
   ]
  },
  {
   "cell_type": "code",
   "execution_count": 1,
   "metadata": {},
   "outputs": [],
   "source": [
    "import pandas as pd\n",
    "import joblib\n",
    "\n",
    "from sklearn.ensemble import GradientBoostingRegressor, RandomForestRegressor\n",
    "from sklearn.linear_model import LinearRegression\n",
    "from sklearn.metrics import mean_absolute_error, mean_squared_error, r2_score\n",
    "from sklearn.model_selection import GridSearchCV, cross_val_score, train_test_split\n",
    "from sklearn.svm import SVR"
   ]
  },
  {
   "cell_type": "code",
   "execution_count": 2,
   "metadata": {},
   "outputs": [],
   "source": [
    "CSV_FILE = 'EDA/df_normalized.csv'\n",
    "\n",
    "df = pd.read_csv(CSV_FILE)\n",
    "display(df.head())"
   ]
  },
  {
   "cell_type": "code",
   "execution_count": 3,
   "metadata": {},
   "outputs": [],
   "source": [
    "#n² 94%\n",
    "\n",
    "df = df.drop(\n",
    "    columns = [\n",
    "        'educacion_padre', 'educacion_madre',\n",
    "        'nota1', 'nota2'\n",
    "    ]\n",
    ")\n",
    "\n",
    "df"
   ]
  },
  {
   "cell_type": "code",
   "execution_count": 4,
   "metadata": {},
   "outputs": [],
   "source": [
    "# n² 94%\n",
    "\n",
    "# df = df.drop(\n",
    "#     columns = [\n",
    "#         'educacion_padre', 'educacion_madre',\n",
    "#         'nota1', 'nota2', 'es_numerosa'\n",
    "#     ]\n",
    "# )\n",
    "\n",
    "# df"
   ]
  },
  {
   "cell_type": "code",
   "execution_count": 5,
   "metadata": {},
   "outputs": [],
   "source": [
    "# n² 91\n",
    "\n",
    "# df = df.drop(\n",
    "#     columns = [\n",
    "#         'educacion_padre', 'educacion_madre',\n",
    "#         'nota1', 'nota2', 'tiempo_estudio'\n",
    "#     ]\n",
    "# )\n",
    "\n",
    "# df"
   ]
  },
  {
   "cell_type": "code",
   "execution_count": 6,
   "metadata": {},
   "outputs": [],
   "source": [
    "# 90%\n",
    "\n",
    "# df = df.drop(\n",
    "#     columns = [\n",
    "#         'educacion_padre', 'educacion_madre',\n",
    "#         'nota1', 'nota2'\n",
    "#     ]\n",
    "# )\n",
    "\n",
    "# df"
   ]
  },
  {
   "cell_type": "code",
   "execution_count": 7,
   "metadata": {},
   "outputs": [],
   "source": [
    "# 92,9%\n",
    "\n",
    "# df = df.drop(\n",
    "#     columns = [\n",
    "#         'educacion_padre', 'educacion_madre',\n",
    "#         'nota1', 'nota2', 'consumo_alcohol_entre_semana'\n",
    "#     ]\n",
    "# )\n",
    "\n",
    "# df"
   ]
  },
  {
   "cell_type": "code",
   "execution_count": 8,
   "metadata": {},
   "outputs": [],
   "source": [
    "# # n² 85%\n",
    "\n",
    "# df = df.drop(\n",
    "#     columns = [\n",
    "#         'educacion_media',\n",
    "#         'nota1', 'nota2',\n",
    "#     ]\n",
    "# )\n",
    "\n",
    "# df"
   ]
  },
  {
   "cell_type": "code",
   "execution_count": 9,
   "metadata": {},
   "outputs": [],
   "source": [
    "# n² 85%\n",
    "\n",
    "# df = df.drop(\n",
    "#     columns = [\n",
    "#         'educacion_media',\n",
    "#         'nota1', 'nota2',\n",
    "#     ]\n",
    "# )\n",
    "\n",
    "# df"
   ]
  },
  {
   "cell_type": "code",
   "execution_count": 10,
   "metadata": {},
   "outputs": [],
   "source": [
    "# # #n² 10%\n",
    "\n",
    "# df = df.drop(\n",
    "#     columns = [\n",
    "#         'educacion_media',\n",
    "#         'nota1', 'nota2', 'nota3'\n",
    "#     ]\n",
    "# )\n",
    "\n",
    "# df"
   ]
  },
  {
   "cell_type": "markdown",
   "metadata": {},
   "source": [
    "## Modelo notas_media\n",
    "Este primer modelo se va a centrar en explorar la variable `notas_media` ya que su correlacion era mayor que las 3 notas por separado"
   ]
  },
  {
   "cell_type": "code",
   "execution_count": 11,
   "metadata": {},
   "outputs": [],
   "source": [
    "# Dividir los datos en conjuntos de entrenamiento y prueba\n",
    "train_df, test_df = train_test_split(\n",
    "    df,\n",
    "    test_size=0.15\n",
    ")\n",
    "\n",
    "X_train = train_df.drop(columns=['notas_media'])\n",
    "Y_train = train_df[\"notas_media\"]\n",
    "X_test = test_df.drop(columns=['notas_media'])\n",
    "Y_test = test_df[\"notas_media\"]\n",
    "\n",
    "\n",
    "\n",
    "# display(X_train)\n",
    "# display(Y_train)\n",
    "# display(X_test)\n",
    "# display(X_test)\n"
   ]
  },
  {
   "cell_type": "markdown",
   "metadata": {},
   "source": [
    "### Regresión Linear"
   ]
  },
  {
   "cell_type": "code",
   "execution_count": 12,
   "metadata": {},
   "outputs": [],
   "source": [
    "lr_reg = LinearRegression()\n",
    "\n",
    "# Validación cruzada\n",
    "cv_scores = cross_val_score(\n",
    "    lr_reg,\n",
    "    X_train, Y_train,\n",
    "    cv=5, scoring='r2')\n",
    "\n",
    "lr_reg.fit(X_train, Y_train)\n",
    "Y_pred = lr_reg.predict(X_test)\n",
    "\n",
    "# Evaluacion\n",
    "r2_lr = r2_score(Y_test, Y_pred)\n",
    "mae_lr = mean_absolute_error(Y_test, Y_pred)\n",
    "mse_lr = mean_squared_error(Y_test, Y_pred)"
   ]
  },
  {
   "cell_type": "code",
   "execution_count": 13,
   "metadata": {},
   "outputs": [
    {
     "name": "stdout",
     "output_type": "stream",
     "text": [
      "r2_lr = 93.44%\n",
      "mae_lr = 0.043\n",
      "mse_lr = 0.003\n"
     ]
    }
   ],
   "source": [
    "print(f'r2_lr = {r2_lr * 100:.2f}%')\n",
    "print(f'mae_lr = {mae_lr:.3f}')\n",
    "print(f'mse_lr = {mse_lr:.3f}')"
   ]
  },
  {
   "cell_type": "code",
   "execution_count": 14,
   "metadata": {},
   "outputs": [
    {
     "data": {
      "text/plain": [
       "0.9123078077782611"
      ]
     },
     "metadata": {},
     "output_type": "display_data"
    },
    {
     "data": {
      "text/plain": [
       "np.float64(0.04873151057764662)"
      ]
     },
     "metadata": {},
     "output_type": "display_data"
    },
    {
     "data": {
      "text/plain": [
       "np.float64(0.004128216922123411)"
      ]
     },
     "metadata": {},
     "output_type": "display_data"
    }
   ],
   "source": [
    "# Crear y entrenar el modelo\n",
    "model = GradientBoostingRegressor(n_estimators=100)\n",
    "model.fit(X_train, Y_train)\n",
    "\n",
    "# Predecir\n",
    "Y_pred_gb = model.predict(X_test)\n",
    "\n",
    "# Evaluación\n",
    "r2_gb = r2_score(Y_test, Y_pred_gb)\n",
    "mae_gb = mean_absolute_error(Y_test, Y_pred_gb)\n",
    "mse_gb = mean_squared_error(Y_test, Y_pred_gb)\n",
    "\n",
    "# Mostrar las métricas\n",
    "display(r2_gb)\n",
    "display(mae_gb)\n",
    "display(mse_gb)"
   ]
  },
  {
   "cell_type": "code",
   "execution_count": 15,
   "metadata": {},
   "outputs": [
    {
     "data": {
      "text/plain": [
       "0.9123078077782611"
      ]
     },
     "metadata": {},
     "output_type": "display_data"
    },
    {
     "data": {
      "text/plain": [
       "np.float64(0.04873151057764662)"
      ]
     },
     "metadata": {},
     "output_type": "display_data"
    },
    {
     "data": {
      "text/plain": [
       "np.float64(0.004128216922123411)"
      ]
     },
     "metadata": {},
     "output_type": "display_data"
    }
   ],
   "source": [
    "from sklearn.linear_model import Ridge\n",
    "\n",
    "ridge = Ridge(alpha=1.0)\n",
    "ridge.fit(X_train, Y_train)\n",
    "\n",
    "Y_pred_ridge = model.predict(X_test)\n",
    "\n",
    "r2_ridge = r2_score(Y_test, Y_pred_ridge)\n",
    "mae_ridge = mean_absolute_error(Y_test, Y_pred_ridge)\n",
    "mse_ridge = mean_squared_error(Y_test, Y_pred_ridge)\n",
    "\n",
    "display(r2_ridge)\n",
    "display(mae_ridge)\n",
    "display(mse_ridge)\n",
    "\n"
   ]
  },
  {
   "cell_type": "code",
   "execution_count": 16,
   "metadata": {},
   "outputs": [
    {
     "data": {
      "text/plain": [
       "-0.018766245219787203"
      ]
     },
     "metadata": {},
     "output_type": "display_data"
    },
    {
     "data": {
      "text/plain": [
       "np.float64(0.17719919110212334)"
      ]
     },
     "metadata": {},
     "output_type": "display_data"
    },
    {
     "data": {
      "text/plain": [
       "np.float64(0.047959663758546836)"
      ]
     },
     "metadata": {},
     "output_type": "display_data"
    }
   ],
   "source": [
    "from sklearn.linear_model import Lasso\n",
    "\n",
    "model = Lasso(alpha=0.1)\n",
    "model.fit(X_train, Y_train)\n",
    "\n",
    "Y_pred_lasso = model.predict(X_test)\n",
    "\n",
    "r2_lasso = r2_score(Y_test, Y_pred_lasso)\n",
    "mae_lasso = mean_absolute_error(Y_test, Y_pred_lasso)\n",
    "mse_lasso = mean_squared_error(Y_test, Y_pred_lasso)\n",
    "\n",
    "display(r2_lasso)\n",
    "display(mae_lasso)\n",
    "display(mse_lasso)\n",
    "\n",
    "\n"
   ]
  }
 ],
 "metadata": {
  "kernelspec": {
   "display_name": "aa",
   "language": "python",
   "name": "python3"
  },
  "language_info": {
   "codemirror_mode": {
    "name": "ipython",
    "version": 3
   },
   "file_extension": ".py",
   "mimetype": "text/x-python",
   "name": "python",
   "nbconvert_exporter": "python",
   "pygments_lexer": "ipython3",
   "version": "3.11.9"
  }
 },
 "nbformat": 4,
 "nbformat_minor": 2
}
